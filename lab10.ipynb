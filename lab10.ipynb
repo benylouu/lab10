{
 "cells": [
  {
   "cell_type": "markdown",
   "metadata": {},
   "source": [
    "# Задание 10.\n",
    "\n",
    "Вам предоставлен набор данных по качеству воздуха в китайских городах в виде csv файлов.\n",
    "Основная метрика, которая показывает качество воздуха - PM25(<a href='https://www.ncbi.nlm.nih.gov/pmc/articles/PMC4740125/'>подробнее о PM25</a>), указана в колонках, которые начинаются на PM_.\n",
    "Остальные столбцы содержат либо данные о времени, в которое были произведены измерения, либо данные о погоде в этот момент. DEWP - точка росы, HUMI - влажность, PRES - давление, TEMP - температура, cbwd - направление ветра, Iws - его скорость, precipation - осадки, Iprec - накопленные осадки.\n",
    "\n",
    "Для выполнения задания необходимо ответить на вопросы по данным, заполнив ячейки ноутбука. Сам ноутбук необходимо выложить в виде отдельного репозитория на github. Ссылку для клонирования репозитория необходимо приложить в решение задания."
   ]
  },
  {
   "cell_type": "markdown",
   "metadata": {},
   "source": [
    "## 1. Загрузите в виде DataFrame набор данных по качеству воздуха Пекина\n",
    "Ссылка на набор данных: https://disk.yandex.ru/d/1UKJoV1ULW1NLQ"
   ]
  },
  {
   "cell_type": "code",
   "execution_count": 1,
   "metadata": {},
   "outputs": [
    {
     "name": "stdout",
     "output_type": "stream",
     "text": [
      "          No  year  month  day  hour  season  PM_Dongsi  PM_Dongsihuan  \\\n",
      "0          1  2010      1    1     0       4        NaN            NaN   \n",
      "1          2  2010      1    1     1       4        NaN            NaN   \n",
      "2          3  2010      1    1     2       4        NaN            NaN   \n",
      "3          4  2010      1    1     3       4        NaN            NaN   \n",
      "4          5  2010      1    1     4       4        NaN            NaN   \n",
      "...      ...   ...    ...  ...   ...     ...        ...            ...   \n",
      "52579  52580  2015     12   31    19       4      140.0          157.0   \n",
      "52580  52581  2015     12   31    20       4      157.0          199.0   \n",
      "52581  52582  2015     12   31    21       4      171.0          231.0   \n",
      "52582  52583  2015     12   31    22       4      204.0          242.0   \n",
      "52583  52584  2015     12   31    23       4        NaN            NaN   \n",
      "\n",
      "       PM_Nongzhanguan  PM_US Post  DEWP  HUMI    PRES  TEMP cbwd    Iws  \\\n",
      "0                  NaN         NaN -21.0  43.0  1021.0 -11.0   NW   1.79   \n",
      "1                  NaN         NaN -21.0  47.0  1020.0 -12.0   NW   4.92   \n",
      "2                  NaN         NaN -21.0  43.0  1019.0 -11.0   NW   6.71   \n",
      "3                  NaN         NaN -21.0  55.0  1019.0 -14.0   NW   9.84   \n",
      "4                  NaN         NaN -20.0  51.0  1018.0 -12.0   NW  12.97   \n",
      "...                ...         ...   ...   ...     ...   ...  ...    ...   \n",
      "52579            122.0       133.0  -8.0  68.0  1031.0  -3.0   SE   7.14   \n",
      "52580            149.0       169.0  -8.0  63.0  1030.0  -2.0   SE   8.03   \n",
      "52581            196.0       203.0 -10.0  73.0  1030.0  -6.0   NE   0.89   \n",
      "52582            221.0       212.0 -10.0  73.0  1030.0  -6.0   NE   1.78   \n",
      "52583              NaN       235.0  -9.0  79.0  1029.0  -6.0   NE   2.67   \n",
      "\n",
      "       precipitation  Iprec  \n",
      "0                0.0    0.0  \n",
      "1                0.0    0.0  \n",
      "2                0.0    0.0  \n",
      "3                0.0    0.0  \n",
      "4                0.0    0.0  \n",
      "...              ...    ...  \n",
      "52579            0.0    0.0  \n",
      "52580            0.0    0.0  \n",
      "52581            0.0    0.0  \n",
      "52582            0.0    0.0  \n",
      "52583            0.0    0.0  \n",
      "\n",
      "[52584 rows x 18 columns]\n"
     ]
    }
   ],
   "source": [
    "import pandas as pd\n",
    "data = pd.read_csv('BeijingPM20100101_20151231.csv')\n"
   ]
  },
  {
   "cell_type": "markdown",
   "metadata": {},
   "source": [
    "## 2. Сколько всего строк находится в наборе данных?"
   ]
  },
  {
   "cell_type": "code",
   "execution_count": 2,
   "metadata": {
    "pycharm": {
     "name": "#%%\n"
    }
   },
   "outputs": [
    {
     "data": {
      "text/plain": [
       "(52584, 18)"
      ]
     },
     "execution_count": 2,
     "metadata": {},
     "output_type": "execute_result"
    }
   ],
   "source": [
    "data.shape\n"
   ]
  },
  {
   "cell_type": "markdown",
   "metadata": {},
   "source": [
    "## 3. Сколько измерений уровня загрязнения воздуха находится в наборе данных?"
   ]
  },
  {
   "cell_type": "code",
   "execution_count": 14,
   "metadata": {
    "pycharm": {
     "name": "#%%\n"
    }
   },
   "outputs": [
    {
     "data": {
      "text/plain": [
       "PM_Dongsi          24755\n",
       "PM_Dongsihuan      20248\n",
       "PM_Nongzhanguan    24661\n",
       "PM_US Post         50387\n",
       "dtype: int64"
      ]
     },
     "execution_count": 14,
     "metadata": {},
     "output_type": "execute_result"
    }
   ],
   "source": [
    "data_clear = data.dropna(subset=['PM_Dongsi'])\n",
    "data_clear = data.dropna(subset=['PM_Dongsihuan'])\n",
    "data_clear = data.dropna(subset=['PM_Nongzhanguan'])\n",
    "data_clear = data.dropna(subset=['PM_US Post'])\n",
    "data_clear[['PM_Dongsi', 'PM_Dongsihuan', 'PM_Nongzhanguan', 'PM_US Post']].count()\n",
    "\n"
   ]
  },
  {
   "cell_type": "markdown",
   "metadata": {},
   "source": [
    "4. Введите столбец среднего качества воздуха PM_mean с усреднением показаний со всех станций слежения."
   ]
  },
  {
   "cell_type": "code",
   "execution_count": 19,
   "metadata": {
    "pycharm": {
     "name": "#%%\n"
    }
   },
   "outputs": [
    {
     "name": "stdout",
     "output_type": "stream",
     "text": [
      "          No  year  month  day  hour  season  PM_Dongsi  PM_Dongsihuan  \\\n",
      "23        24  2010      1    1    23       4        NaN            NaN   \n",
      "24        25  2010      1    2     0       4        NaN            NaN   \n",
      "25        26  2010      1    2     1       4        NaN            NaN   \n",
      "26        27  2010      1    2     2       4        NaN            NaN   \n",
      "27        28  2010      1    2     3       4        NaN            NaN   \n",
      "...      ...   ...    ...  ...   ...     ...        ...            ...   \n",
      "52579  52580  2015     12   31    19       4      140.0          157.0   \n",
      "52580  52581  2015     12   31    20       4      157.0          199.0   \n",
      "52581  52582  2015     12   31    21       4      171.0          231.0   \n",
      "52582  52583  2015     12   31    22       4      204.0          242.0   \n",
      "52583  52584  2015     12   31    23       4        NaN            NaN   \n",
      "\n",
      "       PM_Nongzhanguan  PM_US Post  DEWP  HUMI    PRES  TEMP cbwd   Iws  \\\n",
      "23                 NaN       129.0 -17.0  41.0  1020.0  -5.0   cv  0.89   \n",
      "24                 NaN       148.0 -16.0  38.0  1020.0  -4.0   SE  1.79   \n",
      "25                 NaN       159.0 -15.0  42.0  1020.0  -4.0   SE  2.68   \n",
      "26                 NaN       181.0 -11.0  63.5  1021.0  -5.0   SE  3.57   \n",
      "27                 NaN       138.0  -7.0  85.0  1022.0  -5.0   SE  5.36   \n",
      "...                ...         ...   ...   ...     ...   ...  ...   ...   \n",
      "52579            122.0       133.0  -8.0  68.0  1031.0  -3.0   SE  7.14   \n",
      "52580            149.0       169.0  -8.0  63.0  1030.0  -2.0   SE  8.03   \n",
      "52581            196.0       203.0 -10.0  73.0  1030.0  -6.0   NE  0.89   \n",
      "52582            221.0       212.0 -10.0  73.0  1030.0  -6.0   NE  1.78   \n",
      "52583              NaN       235.0  -9.0  79.0  1029.0  -6.0   NE  2.67   \n",
      "\n",
      "       precipitation  Iprec  PM_mean  \n",
      "23               0.0    0.0   129.00  \n",
      "24               0.0    0.0   148.00  \n",
      "25               0.0    0.0   159.00  \n",
      "26               0.0    0.0   181.00  \n",
      "27               0.0    0.0   138.00  \n",
      "...              ...    ...      ...  \n",
      "52579            0.0    0.0   138.00  \n",
      "52580            0.0    0.0   168.50  \n",
      "52581            0.0    0.0   200.25  \n",
      "52582            0.0    0.0   219.75  \n",
      "52583            0.0    0.0   235.00  \n",
      "\n",
      "[50387 rows x 19 columns]\n"
     ]
    },
    {
     "name": "stderr",
     "output_type": "stream",
     "text": [
      "<ipython-input-19-3074add7836e>:2: SettingWithCopyWarning: \n",
      "A value is trying to be set on a copy of a slice from a DataFrame.\n",
      "Try using .loc[row_indexer,col_indexer] = value instead\n",
      "\n",
      "See the caveats in the documentation: https://pandas.pydata.org/pandas-docs/stable/user_guide/indexing.html#returning-a-view-versus-a-copy\n",
      "  data_clear['PM_mean'] = col.mean(axis=1)\n"
     ]
    }
   ],
   "source": [
    "col = data_clear.loc[: , \"PM_Dongsi\":\"PM_US Post\"]\n",
    "data_clear['PM_mean'] = col.mean(axis=1)\n"
   ]
  },
  {
   "cell_type": "markdown",
   "metadata": {},
   "source": [
    "## 5. Какое направление ветра преобладает в Пекине?"
   ]
  },
  {
   "cell_type": "code",
   "execution_count": 20,
   "metadata": {
    "pycharm": {
     "name": "#%%\n"
    }
   },
   "outputs": [
    {
     "data": {
      "text/plain": [
       "0    SE\n",
       "dtype: object"
      ]
     },
     "execution_count": 20,
     "metadata": {},
     "output_type": "execute_result"
    }
   ],
   "source": [
    "data.cbwd.mode()"
   ]
  },
  {
   "cell_type": "markdown",
   "metadata": {},
   "source": [
    "## 6. В какой день качество воздуха является наихудшим(самая большая концентрация частиц)? Вывести дату в типе данных datetime стандартной библиотеки Python."
   ]
  },
  {
   "cell_type": "code",
   "execution_count": 25,
   "metadata": {
    "pycharm": {
     "name": "#%%\n"
    }
   },
   "outputs": [
    {
     "ename": "SyntaxError",
     "evalue": "invalid syntax (<ipython-input-25-6f9e4dbfb361>, line 3)",
     "output_type": "error",
     "traceback": [
      "\u001b[1;36m  File \u001b[1;32m\"<ipython-input-25-6f9e4dbfb361>\"\u001b[1;36m, line \u001b[1;32m3\u001b[0m\n\u001b[1;33m    data_clear.18048\u001b[0m\n\u001b[1;37m              ^\u001b[0m\n\u001b[1;31mSyntaxError\u001b[0m\u001b[1;31m:\u001b[0m invalid syntax\n"
     ]
    }
   ],
   "source": [
    "data_clear['PM_mean'].idxmax()\n",
    "#1 22 23 2012\n",
    "data_clear.18048\n"
   ]
  },
  {
   "cell_type": "markdown",
   "metadata": {},
   "source": [
    "## 7. Какой из сезонов в Пекине в среднем наименее неблагоприятный для легких за последние 2 года наблюдений?"
   ]
  },
  {
   "cell_type": "code",
   "execution_count": null,
   "metadata": {
    "pycharm": {
     "name": "#%%\n"
    }
   },
   "outputs": [],
   "source": []
  },
  {
   "cell_type": "markdown",
   "metadata": {},
   "source": [
    "## 8. Коррелирует ли влажность с качеством воздуха?\n",
    "Можно воспользоваться корреляцией Пирсона из numpy, а также встроенными функциями Pandas."
   ]
  },
  {
   "cell_type": "code",
   "execution_count": null,
   "metadata": {
    "pycharm": {
     "name": "#%%\n"
    }
   },
   "outputs": [],
   "source": []
  },
  {
   "cell_type": "markdown",
   "metadata": {},
   "source": [
    "## 9. Какой из сезонов в Пекине самый дождливый(в среднем по накоплению осадков)?"
   ]
  },
  {
   "cell_type": "code",
   "execution_count": null,
   "metadata": {
    "pycharm": {
     "name": "#%%\n"
    }
   },
   "outputs": [],
   "source": []
  },
  {
   "cell_type": "markdown",
   "metadata": {},
   "source": [
    "## 10. Становится ли качество воздуха во время дождя лучше, чем оно было сразу перед дождем?"
   ]
  },
  {
   "cell_type": "code",
   "execution_count": null,
   "metadata": {
    "pycharm": {
     "name": "#%%\n"
    }
   },
   "outputs": [],
   "source": []
  }
 ],
 "metadata": {
  "kernelspec": {
   "display_name": "Python 3",
   "language": "python",
   "name": "python3"
  },
  "language_info": {
   "codemirror_mode": {
    "name": "ipython",
    "version": 3
   },
   "file_extension": ".py",
   "mimetype": "text/x-python",
   "name": "python",
   "nbconvert_exporter": "python",
   "pygments_lexer": "ipython3",
   "version": "3.8.8"
  }
 },
 "nbformat": 4,
 "nbformat_minor": 1
}
